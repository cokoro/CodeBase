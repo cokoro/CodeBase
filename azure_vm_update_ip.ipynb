{
 "cells": [
  {
   "cell_type": "markdown",
   "metadata": {},
   "source": [
    "# How to update azure vm public IP address"
   ]
  },
  {
   "cell_type": "code",
   "execution_count": 4,
   "metadata": {},
   "outputs": [],
   "source": [
    "# Import the needed credential and management objects from the libraries.\n",
    "import os\n",
    "import datetime\n",
    "from azure.identity import AzureCliCredential, InteractiveBrowserCredential, ClientSecretCredential\n",
    "from azure.mgmt.resource import ResourceManagementClient\n",
    "from azure.mgmt.network import NetworkManagementClient\n",
    "from azure.mgmt.compute import ComputeManagementClient\n"
   ]
  },
  {
   "cell_type": "code",
   "execution_count": 5,
   "metadata": {},
   "outputs": [],
   "source": [
    "# Set up\n",
    "'''\n",
    "TENANT_ID = \"794d74bb-9ae1-4541-9e91-7c6b68abe8cd\"\n",
    "SUBSCRIPTION_ID = \"ffc6f428-bef1-4059-ad8f-d772730c3681\"\n",
    "RESOURCE_GROUP = \"mugen\"\n",
    "LOCATION = \"japaneast\"\n",
    "'''\n",
    "#select Microsoft Entra ID. If you don't see Microsoft Entra ID here, use the search box to find it.\n",
    "#Find the Tenant ID in the Basic information section of the Overview screen.\n",
    "TENANT_ID = \"17b4ebf0-7d86-4a9b-904a-d384d6f1246f\"\n",
    "SUBSCRIPTION_ID = \"d40c7e06-9290-4055-8fa6-0ab11d40ff93\"\n",
    "RESOURCE_GROUP = \"kexin\"\n",
    "LOCATION = \"japaneast\"\n",
    "\n",
    "# credential 1: interactive browser credential\n",
    "credential = InteractiveBrowserCredential(tenant_id=TENANT_ID)\n",
    "\n",
    "# credential 2: client secret credential\n",
    "# CLIENT_ID = \"c06d21e1-39a0-4956-878d-d54d9e1ba57d\"\n",
    "# CLIENT_ST = \"<Client_ST>\"  # client secret should not be checked in for security reason\n",
    "\n",
    "# credential = ClientSecretCredential(\n",
    "#     client_id=CLIENT_ID,\n",
    "#     client_secret=CLIENT_ST,\n",
    "#     tenant_id=TENANT_ID,\n",
    "# )\n",
    "\n",
    "# get clients to be used\n",
    "resource_client = ResourceManagementClient(credential, SUBSCRIPTION_ID)\n",
    "compute_client = ComputeManagementClient(credential, SUBSCRIPTION_ID)\n",
    "network_client = NetworkManagementClient(credential, SUBSCRIPTION_ID)"
   ]
  },
  {
   "cell_type": "code",
   "execution_count": 6,
   "metadata": {},
   "outputs": [
    {
     "name": "stdout",
     "output_type": "stream",
     "text": [
      "{'id': '/subscriptions/d40c7e06-9290-4055-8fa6-0ab11d40ff93/resourceGroups/KEXIN/providers/Microsoft.Compute/disks/kexin_disk1_4c08d1cf0712497cb9c5fd30f42e351e', 'name': 'kexin_disk1_4c08d1cf0712497cb9c5fd30f42e351e', 'type': 'Microsoft.Compute/disks', 'location': 'japaneast', 'managed_by': '/subscriptions/d40c7e06-9290-4055-8fa6-0ab11d40ff93/resourceGroups/kexin/providers/Microsoft.Compute/virtualMachines/kexin', 'sku': {'name': 'Premium_LRS', 'tier': 'Premium'}}\n",
      "{'id': '/subscriptions/d40c7e06-9290-4055-8fa6-0ab11d40ff93/resourceGroups/kexin/providers/Microsoft.Network/networkSecurityGroups/kexin-nsg', 'name': 'kexin-nsg', 'type': 'Microsoft.Network/networkSecurityGroups', 'location': 'japaneast'}\n",
      "{'id': '/subscriptions/d40c7e06-9290-4055-8fa6-0ab11d40ff93/resourceGroups/NetworkWatcherRG/providers/Microsoft.Network/networkWatchers/NetworkWatcher_japaneast', 'name': 'NetworkWatcher_japaneast', 'type': 'Microsoft.Network/networkWatchers', 'location': 'japaneast'}\n",
      "{'id': '/subscriptions/d40c7e06-9290-4055-8fa6-0ab11d40ff93/resourceGroups/kexin/providers/Microsoft.Compute/virtualMachines/kexin', 'name': 'kexin', 'type': 'Microsoft.Compute/virtualMachines', 'location': 'japaneast'}\n",
      "{'id': '/subscriptions/d40c7e06-9290-4055-8fa6-0ab11d40ff93/resourceGroups/kexin/providers/Microsoft.Compute/virtualMachines/kexin/extensions/AzureNetworkWatcherExtension', 'name': 'kexin/AzureNetworkWatcherExtension', 'type': 'Microsoft.Compute/virtualMachines/extensions', 'location': 'japaneast'}\n",
      "{'id': '/subscriptions/d40c7e06-9290-4055-8fa6-0ab11d40ff93/resourceGroups/kexin/providers/Microsoft.Storage/storageAccounts/kexindiag', 'name': 'kexindiag', 'type': 'Microsoft.Storage/storageAccounts', 'location': 'japaneast', 'tags': {}, 'kind': 'Storage', 'sku': {'name': 'Standard_LRS', 'tier': 'Standard'}}\n",
      "{'id': '/subscriptions/d40c7e06-9290-4055-8fa6-0ab11d40ff93/resourceGroups/kexin/providers/Microsoft.Network/virtualNetworks/kexin-vnet', 'name': 'kexin-vnet', 'type': 'Microsoft.Network/virtualNetworks', 'location': 'japaneast'}\n",
      "{'id': '/subscriptions/d40c7e06-9290-4055-8fa6-0ab11d40ff93/resourceGroups/kexin/providers/Microsoft.Network/networkInterfaces/kexin105', 'name': 'kexin105', 'type': 'Microsoft.Network/networkInterfaces', 'location': 'japaneast'}\n",
      "{'id': '/subscriptions/d40c7e06-9290-4055-8fa6-0ab11d40ff93/resourceGroups/kexin/providers/Microsoft.Network/publicIPAddresses/2024_0120_2216', 'name': '2024_0120_2216', 'type': 'Microsoft.Network/publicIPAddresses', 'location': 'japaneast', 'sku': {'name': 'Standard'}}\n",
      "{'id': '/subscriptions/d40c7e06-9290-4055-8fa6-0ab11d40ff93/resourceGroups/kexin/providers/Microsoft.Compute/virtualMachines/kexin/extensions/enablevmaccess', 'name': 'kexin/enablevmaccess', 'type': 'Microsoft.Compute/virtualMachines/extensions', 'location': 'japaneast'}\n",
      "{'id': '/subscriptions/d40c7e06-9290-4055-8fa6-0ab11d40ff93/resourceGroups/kexin/providers/Microsoft.Compute/sshPublicKeys/mySSHKey2022', 'name': 'mySSHKey2022', 'type': 'Microsoft.Compute/sshPublicKeys', 'location': 'japaneast', 'tags': {}}\n",
      "{'id': '/subscriptions/d40c7e06-9290-4055-8fa6-0ab11d40ff93/resourceGroups/docs-aml/providers/Microsoft.KeyVault/vaults/docsws3975050712', 'name': 'docsws3975050712', 'type': 'Microsoft.KeyVault/vaults', 'location': 'westus', 'tags': {}}\n",
      "{'id': '/subscriptions/d40c7e06-9290-4055-8fa6-0ab11d40ff93/resourceGroups/docs-aml/providers/Microsoft.Storage/storageAccounts/docsws4095679589', 'name': 'docsws4095679589', 'type': 'Microsoft.Storage/storageAccounts', 'location': 'westus', 'tags': {}, 'kind': 'Storage', 'sku': {'name': 'Standard_LRS', 'tier': 'Standard'}}\n",
      "{'id': '/subscriptions/d40c7e06-9290-4055-8fa6-0ab11d40ff93/resourceGroups/docs-aml/providers/microsoft.insights/actiongroups/Application Insights Smart Detection', 'name': 'Application Insights Smart Detection', 'type': 'microsoft.insights/actiongroups', 'location': 'global'}\n",
      "{'id': '/subscriptions/d40c7e06-9290-4055-8fa6-0ab11d40ff93/resourceGroups/docs-aml/providers/Microsoft.Insights/components/docsws5831537212', 'name': 'docsws5831537212', 'type': 'Microsoft.Insights/components', 'location': 'westus2', 'tags': {}, 'kind': 'web'}\n"
     ]
    }
   ],
   "source": [
    "resources = list(resource_client.resources.list())\n",
    "for resource in resources:\n",
    "    print(resource.as_dict())"
   ]
  },
  {
   "cell_type": "markdown",
   "metadata": {},
   "source": [
    "## Create a new public IP address"
   ]
  },
  {
   "cell_type": "code",
   "execution_count": 7,
   "metadata": {},
   "outputs": [
    {
     "name": "stdout",
     "output_type": "stream",
     "text": [
      "{'id': '/subscriptions/d40c7e06-9290-4055-8fa6-0ab11d40ff93/resourceGroups/kexin/providers/Microsoft.Network/publicIPAddresses/2024_0718_0018', 'name': '2024_0718_0018', 'type': 'Microsoft.Network/publicIPAddresses', 'location': 'japaneast', 'sku': {'name': 'Standard', 'tier': 'Regional'}, 'etag': 'W/\"47f26466-b237-4e25-b644-c424e4477d10\"', 'public_ip_allocation_method': 'Static', 'public_ip_address_version': 'IPv4', 'ddos_settings': {'protection_mode': 'VirtualNetworkInherited'}, 'ip_tags': [], 'ip_address': '48.218.144.2', 'idle_timeout_in_minutes': 4, 'resource_guid': '34c1da91-0641-4ae6-bd63-9c7123ada8df', 'provisioning_state': 'Succeeded'}\n",
      "New IP address is: 48.218.144.2\n"
     ]
    }
   ],
   "source": [
    "new_ip_name = datetime.datetime.now().strftime(\"%Y_%m%d_%H%M\")\n",
    "new_ip = network_client.public_ip_addresses.begin_create_or_update(\n",
    "    resource_group_name=RESOURCE_GROUP, \n",
    "    public_ip_address_name=new_ip_name, \n",
    "    parameters={\n",
    "        'location':LOCATION,\n",
    "        'sku':{'name': 'standard'},\n",
    "        'public_ip_allocation_method':'static',\n",
    "        'public_ip_address_version':'ipv4',\n",
    "    }\n",
    ")\n",
    "new_ip = new_ip.result()\n",
    "new_ip_address = new_ip.ip_address\n",
    "print(new_ip.as_dict())\n",
    "print(f\"New IP address is: {new_ip_address}\")"
   ]
  },
  {
   "cell_type": "markdown",
   "metadata": {},
   "source": [
    "## Get IP configration and old IP name"
   ]
  },
  {
   "cell_type": "code",
   "execution_count": 8,
   "metadata": {},
   "outputs": [
    {
     "name": "stdout",
     "output_type": "stream",
     "text": [
      "IP config dict:\n",
      " {'id': '/subscriptions/d40c7e06-9290-4055-8fa6-0ab11d40ff93/resourceGroups/kexin/providers/Microsoft.Network/networkInterfaces/kexin105/ipConfigurations/ipconfig1', 'name': 'ipconfig1', 'etag': 'W/\"16b50aef-cb86-44e8-9a83-b27a3643c5da\"', 'type': 'Microsoft.Network/networkInterfaces/ipConfigurations', 'private_ip_address': '10.0.0.4', 'private_ip_allocation_method': 'Dynamic', 'private_ip_address_version': 'IPv4', 'subnet': {'id': '/subscriptions/d40c7e06-9290-4055-8fa6-0ab11d40ff93/resourceGroups/kexin/providers/Microsoft.Network/virtualNetworks/kexin-vnet/subnets/default'}, 'primary': True, 'public_ip_address': {'id': '/subscriptions/d40c7e06-9290-4055-8fa6-0ab11d40ff93/resourceGroups/kexin/providers/Microsoft.Network/publicIPAddresses/2024_0120_2216'}, 'provisioning_state': 'Succeeded'}\n",
      "Old IP name: 2024_0120_2216\n",
      "Network security group dict:\n",
      " {'id': '/subscriptions/d40c7e06-9290-4055-8fa6-0ab11d40ff93/resourceGroups/kexin/providers/Microsoft.Network/networkSecurityGroups/kexin-nsg'}\n"
     ]
    }
   ],
   "source": [
    "# get network interface\n",
    "vms = compute_client.virtual_machines.list_all()\n",
    "vm_mugen = list(vms)[0]\n",
    "ni_ref = list(vm_mugen.network_profile.network_interfaces)[0]\n",
    "ni_name = os.path.basename(ni_ref.id)\n",
    "ni = network_client.network_interfaces.get(RESOURCE_GROUP, ni_name)\n",
    "\n",
    "# get IP config and old IP name\n",
    "ip_config = ni.ip_configurations[0]\n",
    "print(f\"IP config dict:\\n {ip_config.as_dict()}\")\n",
    "old_ip = ip_config.public_ip_address\n",
    "old_ip_name = os.path.basename(old_ip.id)\n",
    "print(f\"Old IP name: {old_ip_name}\")\n",
    "\n",
    "# get network security group, should keep current nsg settings when update network interface\n",
    "nsg = ni.network_security_group\n",
    "print(f\"Network security group dict:\\n {nsg.as_dict()}\")"
   ]
  },
  {
   "cell_type": "markdown",
   "metadata": {},
   "source": [
    "## Update network interface with new IP configuration"
   ]
  },
  {
   "cell_type": "code",
   "execution_count": 9,
   "metadata": {},
   "outputs": [
    {
     "name": "stdout",
     "output_type": "stream",
     "text": [
      "Successfully updated to new IP: 48.218.144.2\n"
     ]
    }
   ],
   "source": [
    "# update to new ip\n",
    "ip_config.public_ip_address = new_ip\n",
    "\n",
    "# update network interface IP configration\n",
    "update_op = network_client.network_interfaces.begin_create_or_update(\n",
    "    resource_group_name=RESOURCE_GROUP,\n",
    "    network_interface_name=ni_name,\n",
    "    parameters={\n",
    "        \"location\": LOCATION,\n",
    "        # important: the nsg will be empty after update if not specified here\n",
    "        \"network_security_group\": nsg.as_dict(),\n",
    "        \"ip_configurations\": [ip_config.as_dict()]\n",
    "    }\n",
    ")\n",
    "# wait for update operation to be completed\n",
    "update_op.result()\n",
    "print(f\"Successfully updated to new IP: {new_ip_address}\")"
   ]
  },
  {
   "cell_type": "markdown",
   "metadata": {},
   "source": [
    "## Delete old IP by name"
   ]
  },
  {
   "cell_type": "code",
   "execution_count": 10,
   "metadata": {},
   "outputs": [
    {
     "name": "stdout",
     "output_type": "stream",
     "text": [
      "Successfully deleted old IP: 2024_0120_2216\n"
     ]
    }
   ],
   "source": [
    "# delete old IP by name\n",
    "delete_op = network_client.public_ip_addresses.begin_delete(RESOURCE_GROUP, old_ip_name)\n",
    "# no need to wait for delete op to be completed\n",
    "# delete_op.result()\n",
    "print(f\"Successfully deleted old IP: {old_ip_name}\")"
   ]
  },
  {
   "cell_type": "code",
   "execution_count": null,
   "metadata": {},
   "outputs": [],
   "source": []
  }
 ],
 "metadata": {
  "kernelspec": {
   "display_name": "Python 3 (ipykernel)",
   "language": "python",
   "name": "python3"
  },
  "language_info": {
   "codemirror_mode": {
    "name": "ipython",
    "version": 3
   },
   "file_extension": ".py",
   "mimetype": "text/x-python",
   "name": "python",
   "nbconvert_exporter": "python",
   "pygments_lexer": "ipython3",
   "version": "3.11.9"
  },
  "vscode": {
   "interpreter": {
    "hash": "6054f9f5c0b2a98de837bbb2830f26846a7269e3394b39bfd90e4aa69af8c38e"
   }
  }
 },
 "nbformat": 4,
 "nbformat_minor": 4
}
